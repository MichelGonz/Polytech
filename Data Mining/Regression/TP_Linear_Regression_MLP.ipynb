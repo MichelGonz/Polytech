{
 "cells": [
  {
   "cell_type": "markdown",
   "metadata": {},
   "source": [
    "GONZAGA DOS SANTOS Michel\n",
    "<br>\n",
    "Master SSTIM\n",
    "\n",
    "## 1. The dataset\n",
    "\n",
    "### NYC Property Sales: A year's worth of properties sold on the NYC real estate market\n",
    "\n",
    "The nyc-rolling-sales.csv.zip (2 Mb) is a record of every building or building unit (apartment, etc.) sold in the New York City property market over a 12-month period from September 2016 to September 2017. It contains the following features:\n",
    "\n",
    "* ** (1) Borough: (N)** The name of the borough in which the property is located. A digit code for the borough the property is located in; in order these are Manhattan (1), Bronx (2), Brooklyn (3), Queens (4), and Staten Island (5).\n",
    "* ** (2) Neighborhood: (S)** Department of Finance assessors determine the neighborhood name in the course of valuing properties. The common name of the neighborhood is generally the same as the name Finance designates. However, there may be slight differences in neighborhood boundary lines and some sub-neighborhoods may not be included. \n",
    "* ** (3) Building Class Category: (S)** This is a field that we are including so that users of the Rolling Sales Files can easily identify similar properties by broad usage (e.g. One Family Homes) without looking up individual Building Classes. Files are sorted by Borough, Neighborhood, Building Class Category, Block and Lot.\n",
    "* ** (4) Tax Class at Present: (N)** Every property in the city is assigned to one of four tax classes (Classes 1, 2, 3, and 4), based on the use of the property.\n",
    "    * *Class 1:* Includes most residential property of up to three units (such as one-, two-, and three-family homes and small stores or offices with one or two attached apartments), vacant land that is zoned for residential use, and most condominiums that are not more than three stories.\n",
    "     * *Class 2:* Includes all other property that is primarily residential, such as cooperatives and condominiums.\n",
    "     * *Class 3:* Includes property with equipment owned by a gas, telephone or electric company.\n",
    "     * *Class 4:* Includes all other properties not included in class 1,2, and 3, such as offices, factories, warehouses, garage buildings, etc.\n",
    "* ** (5) Block: (N)** A Tax Block is a sub-division of the borough on which real properties are located. The Department of Finance uses a Borough-Block-Lot classification to label all real property in the City. “Whereas” addresses describe the street location of a property, the block and lot distinguishes one unit of real property from another, such as the different condominiums in a single building. Also, block and lots are not subject to name changes based on which side of the parcel the building puts its entrance on. \n",
    "* ** (6) Lot: (N)** A Tax Lot is a subdivision of a Tax Block and represents the property unique location. The combination of borough, block, and lot forms a unique key for property in New York City. Commonly called a BBL.\n",
    "* ** (7) Easement: (S)** An easement is a right, such as a right of way, which allows an entity to make limited use of another’s real property. For example: MTA railroad tracks that run across a portion of another property. \n",
    "* ** (8) Building Class at Present: (S)** The Building Classification is used to describe a property’s constructive use. The first position of the Building Class is a letter that is used to describe a general class of properties (for example “A” signifies one-family homes, “O” signifies office buildings. “R” signifies condominiums). The second position, a number, adds more specific information about the property’s use or construction style (using our previous examples “A0” is a Cape Cod style one family home, “O4” is a tower type office building and “R5” is a commercial condominium unit). The term Building Class used by the Department of Finance is interchangeable with the term Building Code used by the Department of Buildings.\n",
    "* ** (9) Address: (S)** The street address of the property as listed on the Sales File. Coop sales include the apartment number in the address field. \n",
    "* ** (10) Apartement Number (S)**\n",
    "* ** (11) Zip Code: (N)** The property’s postal code \n",
    "* ** (12) Residential Units: (N)** The number of residential units at the listed property.\n",
    "* ** (13) Commercial Units: (N)** The number of commercial units at the listed property.\n",
    "* ** (14) Total Units: (N)** The total number of units at the listed property.\n",
    "* ** (15) Land Square Feet: (N)** The land area of the property listed in square feet.\n",
    "* ** (16) Gross Square Feet: (N)** The total area of all the floors of a building as measured from the exterior surfaces of the outside walls of the building, including the land area and space within any building or structure on the property. \n",
    "* ** (17) Year Built: (N)** Year the structure on the property was built. \n",
    "* ** (18) Tax Class at Time of Sale (N)**\n",
    "* ** (19) Building Class at Time of Sale: (S)** \n",
    "* ** (20) Sales Price: (N)** Price paid for the property. A $0$ sale indicates that there was a transfer of ownership without a cash consideration. There can be a number of reasons for a $0$ sale including transfers of ownership from parents to children. \n",
    "* ** (21) Sale Date: (D)** Date the property sold.\n",
    "\n",
    "Note: (N): number, (S): string, (D): date\n"
   ]
  },
  {
   "cell_type": "markdown",
   "metadata": {},
   "source": [
    "## Work to do\n",
    "\n",
    "* 1. Read the dataset\n",
    "\n",
    "* 2. Clean the data\n",
    "\n",
    "* 3. Select the target feature (selling price) and eliminate the item with 10 % ower value and the 10 % higher value\n",
    "\n",
    "* 4. Select 3 features\n",
    "\n",
    "* 5. Based on the various elements seen in the course, propose a model to predict the selling price based on three characteristics that you will have selected a priori.\n",
    "\n",
    "* 6. Evaluate your model and comment it."
   ]
  },
  {
   "cell_type": "code",
   "execution_count": 61,
   "metadata": {},
   "outputs": [],
   "source": [
    "#Importing the libraries\n",
    "from sklearn.datasets import make_regression\n",
    "from sklearn.model_selection import train_test_split\n",
    "from sklearn import linear_model\n",
    "from sklearn.preprocessing import Imputer\n",
    "from sklearn.preprocessing import LabelEncoder\n",
    "from sklearn.preprocessing import StandardScaler\n",
    "\n",
    "from sklearn.cross_validation import train_test_split\n",
    "from sklearn import linear_model\n",
    "import statsmodels.api as sm\n",
    "import matplotlib.pyplot as plt\n",
    "import pandas as pd\n",
    "import numpy as np"
   ]
  },
  {
   "cell_type": "code",
   "execution_count": 62,
   "metadata": {},
   "outputs": [
    {
     "data": {
      "text/html": [
       "<div>\n",
       "<style scoped>\n",
       "    .dataframe tbody tr th:only-of-type {\n",
       "        vertical-align: middle;\n",
       "    }\n",
       "\n",
       "    .dataframe tbody tr th {\n",
       "        vertical-align: top;\n",
       "    }\n",
       "\n",
       "    .dataframe thead th {\n",
       "        text-align: right;\n",
       "    }\n",
       "</style>\n",
       "<table border=\"1\" class=\"dataframe\">\n",
       "  <thead>\n",
       "    <tr style=\"text-align: right;\">\n",
       "      <th></th>\n",
       "      <th>Unnamed: 0</th>\n",
       "      <th>BOROUGH</th>\n",
       "      <th>NEIGHBORHOOD</th>\n",
       "      <th>BUILDING CLASS CATEGORY</th>\n",
       "      <th>TAX CLASS AT PRESENT</th>\n",
       "      <th>BLOCK</th>\n",
       "      <th>LOT</th>\n",
       "      <th>EASE-MENT</th>\n",
       "      <th>BUILDING CLASS AT PRESENT</th>\n",
       "      <th>ADDRESS</th>\n",
       "      <th>...</th>\n",
       "      <th>RESIDENTIAL UNITS</th>\n",
       "      <th>COMMERCIAL UNITS</th>\n",
       "      <th>TOTAL UNITS</th>\n",
       "      <th>LAND SQUARE FEET</th>\n",
       "      <th>GROSS SQUARE FEET</th>\n",
       "      <th>YEAR BUILT</th>\n",
       "      <th>TAX CLASS AT TIME OF SALE</th>\n",
       "      <th>BUILDING CLASS AT TIME OF SALE</th>\n",
       "      <th>SALE PRICE</th>\n",
       "      <th>SALE DATE</th>\n",
       "    </tr>\n",
       "  </thead>\n",
       "  <tbody>\n",
       "    <tr>\n",
       "      <th>0</th>\n",
       "      <td>4</td>\n",
       "      <td>1</td>\n",
       "      <td>ALPHABET CITY</td>\n",
       "      <td>07 RENTALS - WALKUP APARTMENTS</td>\n",
       "      <td>2A</td>\n",
       "      <td>392</td>\n",
       "      <td>6</td>\n",
       "      <td></td>\n",
       "      <td>C2</td>\n",
       "      <td>153 AVENUE B</td>\n",
       "      <td>...</td>\n",
       "      <td>5</td>\n",
       "      <td>0</td>\n",
       "      <td>5</td>\n",
       "      <td>1633</td>\n",
       "      <td>6440</td>\n",
       "      <td>1900</td>\n",
       "      <td>2</td>\n",
       "      <td>C2</td>\n",
       "      <td>6625000</td>\n",
       "      <td>2017-07-19 00:00:00</td>\n",
       "    </tr>\n",
       "    <tr>\n",
       "      <th>1</th>\n",
       "      <td>5</td>\n",
       "      <td>1</td>\n",
       "      <td>ALPHABET CITY</td>\n",
       "      <td>07 RENTALS - WALKUP APARTMENTS</td>\n",
       "      <td>2</td>\n",
       "      <td>399</td>\n",
       "      <td>26</td>\n",
       "      <td></td>\n",
       "      <td>C7</td>\n",
       "      <td>234 EAST 4TH   STREET</td>\n",
       "      <td>...</td>\n",
       "      <td>28</td>\n",
       "      <td>3</td>\n",
       "      <td>31</td>\n",
       "      <td>4616</td>\n",
       "      <td>18690</td>\n",
       "      <td>1900</td>\n",
       "      <td>2</td>\n",
       "      <td>C7</td>\n",
       "      <td>-</td>\n",
       "      <td>2016-12-14 00:00:00</td>\n",
       "    </tr>\n",
       "    <tr>\n",
       "      <th>2</th>\n",
       "      <td>6</td>\n",
       "      <td>1</td>\n",
       "      <td>ALPHABET CITY</td>\n",
       "      <td>07 RENTALS - WALKUP APARTMENTS</td>\n",
       "      <td>2</td>\n",
       "      <td>399</td>\n",
       "      <td>39</td>\n",
       "      <td></td>\n",
       "      <td>C7</td>\n",
       "      <td>197 EAST 3RD   STREET</td>\n",
       "      <td>...</td>\n",
       "      <td>16</td>\n",
       "      <td>1</td>\n",
       "      <td>17</td>\n",
       "      <td>2212</td>\n",
       "      <td>7803</td>\n",
       "      <td>1900</td>\n",
       "      <td>2</td>\n",
       "      <td>C7</td>\n",
       "      <td>-</td>\n",
       "      <td>2016-12-09 00:00:00</td>\n",
       "    </tr>\n",
       "    <tr>\n",
       "      <th>3</th>\n",
       "      <td>7</td>\n",
       "      <td>1</td>\n",
       "      <td>ALPHABET CITY</td>\n",
       "      <td>07 RENTALS - WALKUP APARTMENTS</td>\n",
       "      <td>2B</td>\n",
       "      <td>402</td>\n",
       "      <td>21</td>\n",
       "      <td></td>\n",
       "      <td>C4</td>\n",
       "      <td>154 EAST 7TH STREET</td>\n",
       "      <td>...</td>\n",
       "      <td>10</td>\n",
       "      <td>0</td>\n",
       "      <td>10</td>\n",
       "      <td>2272</td>\n",
       "      <td>6794</td>\n",
       "      <td>1913</td>\n",
       "      <td>2</td>\n",
       "      <td>C4</td>\n",
       "      <td>3936272</td>\n",
       "      <td>2016-09-23 00:00:00</td>\n",
       "    </tr>\n",
       "    <tr>\n",
       "      <th>4</th>\n",
       "      <td>8</td>\n",
       "      <td>1</td>\n",
       "      <td>ALPHABET CITY</td>\n",
       "      <td>07 RENTALS - WALKUP APARTMENTS</td>\n",
       "      <td>2A</td>\n",
       "      <td>404</td>\n",
       "      <td>55</td>\n",
       "      <td></td>\n",
       "      <td>C2</td>\n",
       "      <td>301 EAST 10TH   STREET</td>\n",
       "      <td>...</td>\n",
       "      <td>6</td>\n",
       "      <td>0</td>\n",
       "      <td>6</td>\n",
       "      <td>2369</td>\n",
       "      <td>4615</td>\n",
       "      <td>1900</td>\n",
       "      <td>2</td>\n",
       "      <td>C2</td>\n",
       "      <td>8000000</td>\n",
       "      <td>2016-11-17 00:00:00</td>\n",
       "    </tr>\n",
       "  </tbody>\n",
       "</table>\n",
       "<p>5 rows × 22 columns</p>\n",
       "</div>"
      ],
      "text/plain": [
       "   Unnamed: 0  BOROUGH   NEIGHBORHOOD  \\\n",
       "0           4        1  ALPHABET CITY   \n",
       "1           5        1  ALPHABET CITY   \n",
       "2           6        1  ALPHABET CITY   \n",
       "3           7        1  ALPHABET CITY   \n",
       "4           8        1  ALPHABET CITY   \n",
       "\n",
       "                       BUILDING CLASS CATEGORY TAX CLASS AT PRESENT  BLOCK  \\\n",
       "0  07 RENTALS - WALKUP APARTMENTS                                2A    392   \n",
       "1  07 RENTALS - WALKUP APARTMENTS                                 2    399   \n",
       "2  07 RENTALS - WALKUP APARTMENTS                                 2    399   \n",
       "3  07 RENTALS - WALKUP APARTMENTS                                2B    402   \n",
       "4  07 RENTALS - WALKUP APARTMENTS                                2A    404   \n",
       "\n",
       "   LOT EASE-MENT BUILDING CLASS AT PRESENT                 ADDRESS  \\\n",
       "0    6                                  C2            153 AVENUE B   \n",
       "1   26                                  C7   234 EAST 4TH   STREET   \n",
       "2   39                                  C7   197 EAST 3RD   STREET   \n",
       "3   21                                  C4     154 EAST 7TH STREET   \n",
       "4   55                                  C2  301 EAST 10TH   STREET   \n",
       "\n",
       "          ...          RESIDENTIAL UNITS  COMMERCIAL UNITS  TOTAL UNITS  \\\n",
       "0         ...                          5                 0            5   \n",
       "1         ...                         28                 3           31   \n",
       "2         ...                         16                 1           17   \n",
       "3         ...                         10                 0           10   \n",
       "4         ...                          6                 0            6   \n",
       "\n",
       "   LAND SQUARE FEET  GROSS SQUARE FEET YEAR BUILT TAX CLASS AT TIME OF SALE  \\\n",
       "0              1633               6440       1900                         2   \n",
       "1              4616              18690       1900                         2   \n",
       "2              2212               7803       1900                         2   \n",
       "3              2272               6794       1913                         2   \n",
       "4              2369               4615       1900                         2   \n",
       "\n",
       "   BUILDING CLASS AT TIME OF SALE  SALE PRICE            SALE DATE  \n",
       "0                              C2     6625000  2017-07-19 00:00:00  \n",
       "1                              C7         -    2016-12-14 00:00:00  \n",
       "2                              C7         -    2016-12-09 00:00:00  \n",
       "3                              C4     3936272  2016-09-23 00:00:00  \n",
       "4                              C2     8000000  2016-11-17 00:00:00  \n",
       "\n",
       "[5 rows x 22 columns]"
      ]
     },
     "execution_count": 62,
     "metadata": {},
     "output_type": "execute_result"
    }
   ],
   "source": [
    "path_to_file = \"C:/Users/miche/Documents/data mining/regression/nyc-rolling-sales.csv\"\n",
    "data = pd.read_csv(path_to_file)\n",
    "dim_data = data.shape\n",
    "data.head()\n",
    "# Take a look at the first few rows"
   ]
  },
  {
   "cell_type": "markdown",
   "metadata": {},
   "source": [
    "- Features Selection:\n",
    "<br>\n",
    "<br>\n",
    "This part of the TD concerns to the choice of the features. The selected ones were:\n",
    "<br>\n",
    "<br>\n",
    " - Total Units: Sice the number of given product can be affected by the number of available units, it seems plausible to consider that this feature would somehow afect the Sales price features.\n",
    " <br>\n",
    " - Grosse Square Features: The total area of a House is a derteminant factor in sales prices, normally the greatter the area the greatter will be the price. \n",
    " <br>\n",
    " - Year Built: Olds and New houses usually don't have the same price."
   ]
  },
  {
   "cell_type": "code",
   "execution_count": 63,
   "metadata": {},
   "outputs": [],
   "source": [
    "# Here we creat a Features Matrix selecting tree features to predict the target feature \n",
    "# Sales Prices:\n",
    "# - Total units\n",
    "# - Grosse Square Features\n",
    "# - Year Built\n",
    "X = data.iloc[:,[14,16,17]].values\n",
    "y = data.iloc[:,[20]].values\n"
   ]
  },
  {
   "cell_type": "markdown",
   "metadata": {},
   "source": [
    "- In this part we start the data preprocessing stage, it is really important to ensure better results. As a first step we are going to deal with missing values in the data set. Missing values in this data set can be represented as NaN or ' -  ', so we need to ensure the all the missing values are represented as the same way(NaN)."
   ]
  },
  {
   "cell_type": "code",
   "execution_count": 64,
   "metadata": {},
   "outputs": [],
   "source": [
    "dim = X.shape\n",
    "for j in range(dim[1]):\n",
    "    a =X[:,j]\n",
    "    for i in range(len(a)):\n",
    "        if a[i] == ' -  ':\n",
    "            a[i] = np.nan\n",
    "for d in y:\n",
    "    if d[0] == ' -  ':\n",
    "        d[0] = np.nan\n",
    "    else:\n",
    "        d[0] = int(d[0])"
   ]
  },
  {
   "cell_type": "markdown",
   "metadata": {},
   "source": [
    "Before dealing with the missing values we are going to drop the duplicates"
   ]
  },
  {
   "cell_type": "code",
   "execution_count": 65,
   "metadata": {},
   "outputs": [],
   "source": [
    "df = np.concatenate((X, y),axis=1)\n",
    "df = pd.DataFrame(df,columns = ['Total Unist', 'Grosse square Feet','Year Built','SalesPrice'])\n",
    "df = df.drop_duplicates(subset=None, keep='first', inplace=False)"
   ]
  },
  {
   "cell_type": "code",
   "execution_count": 66,
   "metadata": {},
   "outputs": [
    {
     "data": {
      "text/html": [
       "<div>\n",
       "<style scoped>\n",
       "    .dataframe tbody tr th:only-of-type {\n",
       "        vertical-align: middle;\n",
       "    }\n",
       "\n",
       "    .dataframe tbody tr th {\n",
       "        vertical-align: top;\n",
       "    }\n",
       "\n",
       "    .dataframe thead th {\n",
       "        text-align: right;\n",
       "    }\n",
       "</style>\n",
       "<table border=\"1\" class=\"dataframe\">\n",
       "  <thead>\n",
       "    <tr style=\"text-align: right;\">\n",
       "      <th></th>\n",
       "      <th>Total Unist</th>\n",
       "      <th>Grosse square Feet</th>\n",
       "      <th>Year Built</th>\n",
       "      <th>SalesPrice</th>\n",
       "    </tr>\n",
       "  </thead>\n",
       "  <tbody>\n",
       "    <tr>\n",
       "      <th>0</th>\n",
       "      <td>5</td>\n",
       "      <td>6440</td>\n",
       "      <td>1900</td>\n",
       "      <td>6625000</td>\n",
       "    </tr>\n",
       "    <tr>\n",
       "      <th>1</th>\n",
       "      <td>31</td>\n",
       "      <td>18690</td>\n",
       "      <td>1900</td>\n",
       "      <td>NaN</td>\n",
       "    </tr>\n",
       "    <tr>\n",
       "      <th>2</th>\n",
       "      <td>17</td>\n",
       "      <td>7803</td>\n",
       "      <td>1900</td>\n",
       "      <td>NaN</td>\n",
       "    </tr>\n",
       "    <tr>\n",
       "      <th>3</th>\n",
       "      <td>10</td>\n",
       "      <td>6794</td>\n",
       "      <td>1913</td>\n",
       "      <td>3936272</td>\n",
       "    </tr>\n",
       "    <tr>\n",
       "      <th>4</th>\n",
       "      <td>6</td>\n",
       "      <td>4615</td>\n",
       "      <td>1900</td>\n",
       "      <td>8000000</td>\n",
       "    </tr>\n",
       "  </tbody>\n",
       "</table>\n",
       "</div>"
      ],
      "text/plain": [
       "  Total Unist Grosse square Feet Year Built SalesPrice\n",
       "0           5               6440       1900    6625000\n",
       "1          31              18690       1900        NaN\n",
       "2          17               7803       1900        NaN\n",
       "3          10               6794       1913    3936272\n",
       "4           6               4615       1900    8000000"
      ]
     },
     "execution_count": 66,
     "metadata": {},
     "output_type": "execute_result"
    }
   ],
   "source": [
    "df.head()"
   ]
  },
  {
   "cell_type": "markdown",
   "metadata": {},
   "source": [
    "Here we count the number of missing values present in all the colums of the new data set df:"
   ]
  },
  {
   "cell_type": "code",
   "execution_count": 67,
   "metadata": {},
   "outputs": [
    {
     "data": {
      "text/plain": [
       "Total Unist               0\n",
       "Grosse square Feet    17291\n",
       "Year Built                0\n",
       "SalesPrice             6967\n",
       "dtype: int64"
      ]
     },
     "execution_count": 67,
     "metadata": {},
     "output_type": "execute_result"
    }
   ],
   "source": [
    "df.isnull().sum()"
   ]
  },
  {
   "cell_type": "markdown",
   "metadata": {},
   "source": [
    "Given that we have a large amount of missing data in Grosse square Feet and SalesPrice, simply input the missing valeus with the mean, migth not be a good a idea, so we  decided to delet the lines with missing values "
   ]
  },
  {
   "cell_type": "code",
   "execution_count": 68,
   "metadata": {},
   "outputs": [],
   "source": [
    "F = df.iloc[:,[0,1,2,3]].values\n",
    "vec = df.iloc[:,[1]].values\n",
    "y = df.iloc[:,[3]].values\n",
    "y = y.tolist()\n",
    "vec = vec.tolist()\n",
    "\n",
    "F.shape\n",
    "ind = []\n",
    "for i in range(len(vec)):\n",
    "    if isinstance(vec[i][0],float):\n",
    "        ind.append(i)"
   ]
  },
  {
   "cell_type": "code",
   "execution_count": 69,
   "metadata": {},
   "outputs": [
    {
     "data": {
      "text/plain": [
       "(48197, 4)"
      ]
     },
     "execution_count": 69,
     "metadata": {},
     "output_type": "execute_result"
    }
   ],
   "source": [
    "df1 = np.delete(F, ind, 0)\n",
    "df1.shape"
   ]
  },
  {
   "cell_type": "code",
   "execution_count": 70,
   "metadata": {},
   "outputs": [
    {
     "data": {
      "text/plain": [
       "Total Unist              0\n",
       "Grosse square Feet       0\n",
       "Year Built               0\n",
       "SalesPrice            6745\n",
       "dtype: int64"
      ]
     },
     "execution_count": 70,
     "metadata": {},
     "output_type": "execute_result"
    }
   ],
   "source": [
    "df1 = pd.DataFrame(df1,columns = ['Total Unist', 'Grosse square Feet','Year Built','SalesPrice'])\n",
    "df1.isnull().sum()"
   ]
  },
  {
   "cell_type": "code",
   "execution_count": 71,
   "metadata": {},
   "outputs": [
    {
     "data": {
      "text/plain": [
       "(41452, 4)"
      ]
     },
     "execution_count": 71,
     "metadata": {},
     "output_type": "execute_result"
    }
   ],
   "source": [
    "F = df1.iloc[:,[0,1,2,3]].values\n",
    "y = df1.iloc[:,[3]].values\n",
    "y = y.tolist()\n",
    "ind1 = [] \n",
    "s = 0\n",
    "for i in range(len(y)):\n",
    "    if isinstance(y[i][0],float):\n",
    "        s = s + 1 \n",
    "        ind1.append(i)\n",
    "\n",
    "df2 = np.delete(F, ind1, 0)\n",
    "df2.shape"
   ]
  },
  {
   "cell_type": "markdown",
   "metadata": {},
   "source": [
    "Here as we can see we have no loger missing values in the data set"
   ]
  },
  {
   "cell_type": "code",
   "execution_count": 72,
   "metadata": {},
   "outputs": [
    {
     "data": {
      "text/plain": [
       "Total Unist           0\n",
       "Grosse square Feet    0\n",
       "Year Built            0\n",
       "SalesPrice            0\n",
       "dtype: int64"
      ]
     },
     "execution_count": 72,
     "metadata": {},
     "output_type": "execute_result"
    }
   ],
   "source": [
    "df2 = pd.DataFrame(df2,columns = ['Total Unist', 'Grosse square Feet','Year Built','SalesPrice'])\n",
    "df2.isnull().sum()"
   ]
  },
  {
   "cell_type": "markdown",
   "metadata": {},
   "source": [
    "Here we select the target feature (selling price) and eliminate the item with 10 % ower value and the 10 % higher value, using the function np.percentile\n"
   ]
  },
  {
   "cell_type": "code",
   "execution_count": 73,
   "metadata": {},
   "outputs": [
    {
     "name": "stdout",
     "output_type": "stream",
     "text": [
      "[0.0 1560000.0]\n"
     ]
    }
   ],
   "source": [
    "P = np.percentile(df2['SalesPrice'], [10, 90])\n",
    "df2 = df2[(df2['SalesPrice'] > P[0]) & (df2['SalesPrice'] < P[1])]\n",
    "print(P)\n",
    "# Transform df2 into an array A1\n",
    "A1 = df2.iloc[:,:].values\n",
    "# Will be used in the neural network part\n",
    "X1 = df2.iloc[:,:-1].values\n",
    "y1 = df2.iloc[:,3].values"
   ]
  },
  {
   "cell_type": "markdown",
   "metadata": {},
   "source": [
    "Here we convert the second column of A1 and X1 to int, since its elements were from the type string"
   ]
  },
  {
   "cell_type": "code",
   "execution_count": 74,
   "metadata": {},
   "outputs": [],
   "source": [
    "val = A1[:,1]\n",
    "for i in range(len(val)):\n",
    "    A1[i,1] = int(val[i])\n",
    "val = X1[:,1]\n",
    "for i in range(len(val)):\n",
    "    X1[i,1] = int(val[i])"
   ]
  },
  {
   "cell_type": "markdown",
   "metadata": {},
   "source": [
    "All elements are from the same type now"
   ]
  },
  {
   "cell_type": "code",
   "execution_count": 75,
   "metadata": {},
   "outputs": [
    {
     "data": {
      "text/plain": [
       "array([[1, 5653, 1900],\n",
       "       [9, 6330, 1901],\n",
       "       [9, 6330, 1901],\n",
       "       ...,\n",
       "       [2, 2377, 1998],\n",
       "       [2, 1496, 1925],\n",
       "       [1, 2400, 2006]], dtype=object)"
      ]
     },
     "execution_count": 75,
     "metadata": {},
     "output_type": "execute_result"
    }
   ],
   "source": [
    "X1"
   ]
  },
  {
   "cell_type": "markdown",
   "metadata": {},
   "source": [
    "In order to obtain better results while performing linear regression, we are going to apply a log transformation in the data set "
   ]
  },
  {
   "cell_type": "code",
   "execution_count": 76,
   "metadata": {},
   "outputs": [],
   "source": [
    "val = A1[:,0]\n",
    "\n",
    "for i in range(len(val)):\n",
    "    if val[i] != 0:\n",
    "        A1[i,0] = np.log(val[i])\n",
    "\n",
    "        \n",
    "val = A1[:,1]\n",
    "\n",
    "for i in range(len(val)):\n",
    "    if val[i] != 0:\n",
    "        A1[i,1] = np.log(val[i])\n",
    "\n",
    "val = A1[:,2]\n",
    "\n",
    "for i in range(len(val)):\n",
    "    if val[i] != 0:\n",
    "        A1[i,2] = np.log(val[i])\n",
    "        \n",
    "val = A1[:,2]\n",
    "\n",
    "for i in range(len(val)):\n",
    "    if val[i] != 0:\n",
    "        A1[i,3] = np.log(val[i])"
   ]
  },
  {
   "cell_type": "markdown",
   "metadata": {},
   "source": [
    "Then in order to have all the variables with the same scale we apply a Standard scale in the whole data set"
   ]
  },
  {
   "cell_type": "code",
   "execution_count": 77,
   "metadata": {},
   "outputs": [
    {
     "name": "stderr",
     "output_type": "stream",
     "text": [
      "C:\\Users\\miche\\AppData\\Local\\Continuum\\anaconda3\\lib\\site-packages\\sklearn\\utils\\validation.py:475: DataConversionWarning: Data with input dtype object was converted to float64 by StandardScaler.\n",
      "  warnings.warn(msg, DataConversionWarning)\n",
      "C:\\Users\\miche\\AppData\\Local\\Continuum\\anaconda3\\lib\\site-packages\\sklearn\\utils\\validation.py:475: DataConversionWarning: Data with input dtype object was converted to float64 by StandardScaler.\n",
      "  warnings.warn(msg, DataConversionWarning)\n"
     ]
    }
   ],
   "source": [
    "scaler = StandardScaler() \n",
    "scaler.fit(A1) \n",
    "A1 = scaler.transform(A1)"
   ]
  },
  {
   "cell_type": "code",
   "execution_count": 78,
   "metadata": {},
   "outputs": [],
   "source": [
    "A = pd.DataFrame(A1,columns = ['Total Unist', 'Grosse square Feet','Year Built','SalesPrice'])\n",
    "X = A.iloc[:,:-1].values\n",
    "y = A.iloc[:,3].values"
   ]
  },
  {
   "cell_type": "markdown",
   "metadata": {},
   "source": [
    "Given that we have already perform the data prepocessing, we are now able to split the data set into train and test sets"
   ]
  },
  {
   "cell_type": "code",
   "execution_count": 79,
   "metadata": {},
   "outputs": [],
   "source": [
    "X_train,X_test,y_train,y_test = train_test_split(X, y, test_size = 0.2, random_state = 42)\n"
   ]
  },
  {
   "cell_type": "code",
   "execution_count": 80,
   "metadata": {},
   "outputs": [],
   "source": [
    "from sklearn.datasets import make_regression\n",
    "from sklearn.model_selection import train_test_split\n",
    "from sklearn import linear_model\n",
    "import matplotlib.pyplot as plt\n",
    "%matplotlib inline"
   ]
  },
  {
   "cell_type": "code",
   "execution_count": 81,
   "metadata": {},
   "outputs": [],
   "source": [
    "# Fit line using all data\n",
    "lr = linear_model.LinearRegression()\n",
    "lr.fit(X_train, y_train)\n",
    "\n",
    "# Predict data of estimated models\n",
    "y_pred = lr.predict(X_test)"
   ]
  },
  {
   "cell_type": "markdown",
   "metadata": {},
   "source": [
    "Here we compare the values of the predictions, by means of the mae, mse and the Variance score"
   ]
  },
  {
   "cell_type": "code",
   "execution_count": 82,
   "metadata": {},
   "outputs": [
    {
     "name": "stdout",
     "output_type": "stream",
     "text": [
      "[-0.12471059 -0.12677823 -0.1317771   4.99647552 -0.14906028] [-0.13814015 -0.13814015 -0.13814013 11.81490645 -0.13814011]\n",
      "Coefficients: \n",
      " [-0.00285177 -0.0017034  -0.84052318]\n",
      "mae: 0.0923\n",
      "mse: 0.3065\n",
      "Variance score: 0.66\n"
     ]
    }
   ],
   "source": [
    "from sklearn.metrics import mean_absolute_error, mean_squared_error, r2_score\n",
    "\n",
    "print(y_pred[:5], y_test[:5])\n",
    "print('Coefficients: \\n', lr.coef_)\n",
    "print(\"mae: %.4f\"% mean_absolute_error(y_test, y_pred))\n",
    "print(\"mse: %.4f\" % mean_squared_error(y_test, y_pred))\n",
    "print('Variance score: %.2f' % r2_score(y_test, y_pred))"
   ]
  },
  {
   "cell_type": "markdown",
   "metadata": {},
   "source": [
    "# Multilayer Perceptron\n",
    "<br>\n",
    "<br> Now we are intend to prefrom the same linear regression using a MLP(Multilayer Perceptron). we are going to use the tools privided by Keras, and tensor flow"
   ]
  },
  {
   "cell_type": "code",
   "execution_count": 83,
   "metadata": {},
   "outputs": [],
   "source": [
    "import keras\n",
    "import matplotlib.pyplot as plt\n",
    "from keras.models import Sequential\n",
    "from keras.layers import Dense\n",
    "from keras.callbacks import EarlyStopping \n",
    "from sklearn.model_selection import KFold\n",
    "from sklearn.model_selection import cross_val_score"
   ]
  },
  {
   "cell_type": "markdown",
   "metadata": {},
   "source": [
    "Here we pre pare the data to be used to build the regression model"
   ]
  },
  {
   "cell_type": "code",
   "execution_count": 100,
   "metadata": {},
   "outputs": [
    {
     "name": "stderr",
     "output_type": "stream",
     "text": [
      "C:\\Users\\miche\\AppData\\Local\\Continuum\\anaconda3\\lib\\site-packages\\sklearn\\utils\\validation.py:475: DataConversionWarning: Data with input dtype object was converted to float64 by StandardScaler.\n",
      "  warnings.warn(msg, DataConversionWarning)\n",
      "C:\\Users\\miche\\AppData\\Local\\Continuum\\anaconda3\\lib\\site-packages\\sklearn\\utils\\validation.py:475: DataConversionWarning: Data with input dtype object was converted to float64 by StandardScaler.\n",
      "  warnings.warn(msg, DataConversionWarning)\n",
      "C:\\Users\\miche\\AppData\\Local\\Continuum\\anaconda3\\lib\\site-packages\\sklearn\\utils\\validation.py:475: DataConversionWarning: Data with input dtype object was converted to float64 by StandardScaler.\n",
      "  warnings.warn(msg, DataConversionWarning)\n",
      "C:\\Users\\miche\\AppData\\Local\\Continuum\\anaconda3\\lib\\site-packages\\sklearn\\utils\\validation.py:475: DataConversionWarning: Data with input dtype object was converted to float64 by StandardScaler.\n",
      "  warnings.warn(msg, DataConversionWarning)\n",
      "C:\\Users\\miche\\AppData\\Local\\Continuum\\anaconda3\\lib\\site-packages\\sklearn\\utils\\validation.py:475: DataConversionWarning: Data with input dtype object was converted to float64 by StandardScaler.\n",
      "  warnings.warn(msg, DataConversionWarning)\n",
      "C:\\Users\\miche\\AppData\\Local\\Continuum\\anaconda3\\lib\\site-packages\\sklearn\\utils\\validation.py:475: DataConversionWarning: Data with input dtype object was converted to float64 by StandardScaler.\n",
      "  warnings.warn(msg, DataConversionWarning)\n"
     ]
    }
   ],
   "source": [
    "y1=np.reshape(y1, (-1,1))\n",
    "X_train1, X_test1, y_train1, y_test1 = train_test_split(X1, y1)\n",
    "scaler = StandardScaler()\n",
    "X_train1 = scaler.fit_transform(X_train1)\n",
    "X_test1 = scaler.transform(X_test1)\n",
    "y_train1 = scaler.fit_transform(y_train1)\n",
    "y_test1 = scaler.transform(y_test1)"
   ]
  },
  {
   "cell_type": "code",
   "execution_count": 105,
   "metadata": {},
   "outputs": [
    {
     "name": "stdout",
     "output_type": "stream",
     "text": [
      "Train on 18859 samples, validate on 4715 samples\n",
      "Epoch 1/100\n",
      "18859/18859 [==============================] - 1s 38us/step - loss: 0.4139 - acc: 0.0000e+00 - val_loss: 0.3395 - val_acc: 0.0000e+00\n",
      "Epoch 2/100\n",
      "18859/18859 [==============================] - 1s 29us/step - loss: 0.3207 - acc: 0.0000e+00 - val_loss: 0.3451 - val_acc: 0.0000e+00\n",
      "Epoch 3/100\n",
      "18859/18859 [==============================] - 1s 27us/step - loss: 0.3252 - acc: 0.0000e+00 - val_loss: 0.3343 - val_acc: 0.0000e+00\n",
      "Epoch 4/100\n",
      "18859/18859 [==============================] - 1s 27us/step - loss: 0.3201 - acc: 0.0000e+00 - val_loss: 0.3386 - val_acc: 0.0000e+00\n",
      "Epoch 5/100\n",
      "18859/18859 [==============================] - 1s 28us/step - loss: 0.3183 - acc: 0.0000e+00 - val_loss: 0.3343 - val_acc: 0.0000e+00\n",
      "Epoch 6/100\n",
      "18859/18859 [==============================] - 1s 27us/step - loss: 0.3179 - acc: 0.0000e+00 - val_loss: 0.3501 - val_acc: 0.0000e+00\n",
      "Epoch 7/100\n",
      "18859/18859 [==============================] - 1s 28us/step - loss: 0.3238 - acc: 0.0000e+00 - val_loss: 0.3363 - val_acc: 0.0000e+00\n",
      "Epoch 8/100\n",
      "18859/18859 [==============================] - 1s 28us/step - loss: 0.3230 - acc: 0.0000e+00 - val_loss: 0.3442 - val_acc: 0.0000e+00\n",
      "Epoch 9/100\n",
      "18859/18859 [==============================] - 1s 29us/step - loss: 0.3205 - acc: 0.0000e+00 - val_loss: 0.3391 - val_acc: 0.0000e+00\n",
      "Epoch 10/100\n",
      "18859/18859 [==============================] - 1s 29us/step - loss: 0.3207 - acc: 0.0000e+00 - val_loss: 0.3392 - val_acc: 0.0000e+00\n",
      "Epoch 11/100\n",
      "18859/18859 [==============================] - 1s 27us/step - loss: 0.3191 - acc: 0.0000e+00 - val_loss: 0.3517 - val_acc: 0.0000e+00\n",
      "Epoch 12/100\n",
      "18859/18859 [==============================] - 1s 30us/step - loss: 0.3184 - acc: 0.0000e+00 - val_loss: 0.3420 - val_acc: 0.0000e+00\n",
      "Epoch 13/100\n",
      "18859/18859 [==============================] - 1s 32us/step - loss: 0.3191 - acc: 0.0000e+00 - val_loss: 0.3380 - val_acc: 0.0000e+00\n",
      "Epoch 14/100\n",
      "18859/18859 [==============================] - 1s 30us/step - loss: 0.3223 - acc: 0.0000e+00 - val_loss: 0.3365 - val_acc: 0.0000e+00\n",
      "Epoch 15/100\n",
      "18859/18859 [==============================] - 1s 30us/step - loss: 0.3184 - acc: 0.0000e+00 - val_loss: 0.3351 - val_acc: 0.0000e+00\n",
      "Epoch 16/100\n",
      "18859/18859 [==============================] - 1s 31us/step - loss: 0.3222 - acc: 0.0000e+00 - val_loss: 0.3470 - val_acc: 0.0000e+00\n",
      "Epoch 17/100\n",
      "18859/18859 [==============================] - 1s 36us/step - loss: 0.3231 - acc: 0.0000e+00 - val_loss: 0.3548 - val_acc: 0.0000e+00\n",
      "Epoch 18/100\n",
      "18859/18859 [==============================] - 1s 31us/step - loss: 0.3226 - acc: 0.0000e+00 - val_loss: 0.3395 - val_acc: 0.0000e+00\n",
      "Epoch 19/100\n",
      "18859/18859 [==============================] - 1s 39us/step - loss: 0.3228 - acc: 0.0000e+00 - val_loss: 0.3411 - val_acc: 0.0000e+00\n",
      "Epoch 20/100\n",
      "18859/18859 [==============================] - 1s 29us/step - loss: 0.3239 - acc: 0.0000e+00 - val_loss: 0.3401 - val_acc: 0.0000e+00\n",
      "Epoch 21/100\n",
      "18859/18859 [==============================] - 1s 37us/step - loss: 0.3219 - acc: 0.0000e+00 - val_loss: 0.3412 - val_acc: 0.0000e+00\n",
      "Epoch 22/100\n",
      "18859/18859 [==============================] - 1s 41us/step - loss: 0.3198 - acc: 0.0000e+00 - val_loss: 0.3449 - val_acc: 0.0000e+00\n",
      "Epoch 23/100\n",
      "18859/18859 [==============================] - 1s 35us/step - loss: 0.3207 - acc: 0.0000e+00 - val_loss: 0.3472 - val_acc: 0.0000e+00\n",
      "Epoch 24/100\n",
      "18859/18859 [==============================] - 1s 34us/step - loss: 0.3193 - acc: 0.0000e+00 - val_loss: 0.3624 - val_acc: 0.0000e+00\n",
      "Epoch 25/100\n",
      "18859/18859 [==============================] - 1s 29us/step - loss: 0.3233 - acc: 0.0000e+00 - val_loss: 0.3349 - val_acc: 0.0000e+00\n",
      "Epoch 26/100\n",
      "18859/18859 [==============================] - 1s 29us/step - loss: 0.3226 - acc: 0.0000e+00 - val_loss: 0.3358 - val_acc: 0.0000e+00\n",
      "Epoch 27/100\n",
      "18859/18859 [==============================] - 1s 33us/step - loss: 0.3233 - acc: 0.0000e+00 - val_loss: 0.3351 - val_acc: 0.0000e+00\n",
      "Epoch 28/100\n",
      "18859/18859 [==============================] - 1s 39us/step - loss: 0.3227 - acc: 0.0000e+00 - val_loss: 0.3358 - val_acc: 0.0000e+00\n",
      "Epoch 29/100\n",
      "18859/18859 [==============================] - 1s 38us/step - loss: 0.3208 - acc: 0.0000e+00 - val_loss: 0.3351 - val_acc: 0.0000e+00\n",
      "Epoch 30/100\n",
      "18859/18859 [==============================] - 1s 36us/step - loss: 0.3209 - acc: 0.0000e+00 - val_loss: 0.3366 - val_acc: 0.0000e+00\n",
      "Epoch 31/100\n",
      "18859/18859 [==============================] - 1s 32us/step - loss: 0.3242 - acc: 0.0000e+00 - val_loss: 0.3513 - val_acc: 0.0000e+00\n",
      "Epoch 32/100\n",
      "18859/18859 [==============================] - 1s 38us/step - loss: 0.3187 - acc: 0.0000e+00 - val_loss: 0.3358 - val_acc: 0.0000e+00\n",
      "Epoch 33/100\n",
      "18859/18859 [==============================] - 1s 28us/step - loss: 0.3207 - acc: 0.0000e+00 - val_loss: 0.3403 - val_acc: 0.0000e+00\n",
      "Epoch 34/100\n",
      "18859/18859 [==============================] - 1s 28us/step - loss: 0.3230 - acc: 0.0000e+00 - val_loss: 0.3378 - val_acc: 0.0000e+00\n",
      "Epoch 35/100\n",
      "18859/18859 [==============================] - 1s 29us/step - loss: 0.3229 - acc: 0.0000e+00 - val_loss: 0.3360 - val_acc: 0.0000e+00\n",
      "Epoch 36/100\n",
      "18859/18859 [==============================] - 1s 27us/step - loss: 0.3221 - acc: 0.0000e+00 - val_loss: 0.3575 - val_acc: 0.0000e+00\n",
      "Epoch 37/100\n",
      "18859/18859 [==============================] - 1s 27us/step - loss: 0.3218 - acc: 0.0000e+00 - val_loss: 0.3370 - val_acc: 0.0000e+00\n",
      "Epoch 38/100\n",
      "18859/18859 [==============================] - 0s 26us/step - loss: 0.3188 - acc: 0.0000e+00 - val_loss: 0.3379 - val_acc: 0.0000e+00\n",
      "Epoch 39/100\n",
      "18859/18859 [==============================] - 1s 27us/step - loss: 0.3225 - acc: 0.0000e+00 - val_loss: 0.3382 - val_acc: 0.0000e+00\n",
      "Epoch 40/100\n",
      "18859/18859 [==============================] - 1s 27us/step - loss: 0.3216 - acc: 0.0000e+00 - val_loss: 0.3397 - val_acc: 0.0000e+00\n",
      "Epoch 41/100\n",
      "18859/18859 [==============================] - 0s 26us/step - loss: 0.3187 - acc: 0.0000e+00 - val_loss: 0.3536 - val_acc: 0.0000e+00\n",
      "Epoch 42/100\n",
      "18859/18859 [==============================] - 1s 27us/step - loss: 0.3193 - acc: 0.0000e+00 - val_loss: 0.3394 - val_acc: 0.0000e+00\n",
      "Epoch 43/100\n",
      "18859/18859 [==============================] - 1s 28us/step - loss: 0.3223 - acc: 0.0000e+00 - val_loss: 0.3394 - val_acc: 0.0000e+00\n",
      "Epoch 44/100\n",
      "18859/18859 [==============================] - 1s 27us/step - loss: 0.3220 - acc: 0.0000e+00 - val_loss: 0.3367 - val_acc: 0.0000e+00\n",
      "Epoch 45/100\n",
      "18859/18859 [==============================] - 0s 26us/step - loss: 0.3201 - acc: 0.0000e+00 - val_loss: 0.3564 - val_acc: 0.0000e+00\n",
      "Epoch 46/100\n",
      "18859/18859 [==============================] - 1s 27us/step - loss: 0.3237 - acc: 0.0000e+00 - val_loss: 0.3353 - val_acc: 0.0000e+00\n",
      "Epoch 47/100\n",
      "18859/18859 [==============================] - 1s 28us/step - loss: 0.3188 - acc: 0.0000e+00 - val_loss: 0.3466 - val_acc: 0.0000e+00\n",
      "Epoch 48/100\n",
      "18859/18859 [==============================] - 0s 26us/step - loss: 0.3189 - acc: 0.0000e+00 - val_loss: 0.3478 - val_acc: 0.0000e+00\n",
      "Epoch 49/100\n",
      "18859/18859 [==============================] - 1s 29us/step - loss: 0.3225 - acc: 0.0000e+00 - val_loss: 0.3421 - val_acc: 0.0000e+00\n",
      "Epoch 50/100\n",
      "18859/18859 [==============================] - 1s 27us/step - loss: 0.3219 - acc: 0.0000e+00 - val_loss: 0.3371 - val_acc: 0.0000e+00\n",
      "Epoch 51/100\n",
      "18859/18859 [==============================] - 1s 27us/step - loss: 0.3174 - acc: 0.0000e+00 - val_loss: 0.3369 - val_acc: 0.0000e+00\n",
      "Epoch 52/100\n",
      "18859/18859 [==============================] - 1s 27us/step - loss: 0.3200 - acc: 0.0000e+00 - val_loss: 0.3387 - val_acc: 0.0000e+00\n",
      "Epoch 53/100\n",
      "18859/18859 [==============================] - 1s 27us/step - loss: 0.3225 - acc: 0.0000e+00 - val_loss: 0.3369 - val_acc: 0.0000e+00\n",
      "Epoch 54/100\n",
      "18859/18859 [==============================] - 0s 26us/step - loss: 0.3234 - acc: 0.0000e+00 - val_loss: 0.3358 - val_acc: 0.0000e+00\n",
      "Epoch 55/100\n",
      "18859/18859 [==============================] - 1s 27us/step - loss: 0.3208 - acc: 0.0000e+00 - val_loss: 0.3355 - val_acc: 0.0000e+00\n",
      "Epoch 56/100\n"
     ]
    },
    {
     "name": "stdout",
     "output_type": "stream",
     "text": [
      "18859/18859 [==============================] - 1s 27us/step - loss: 0.3220 - acc: 0.0000e+00 - val_loss: 0.3357 - val_acc: 0.0000e+00\n",
      "Epoch 57/100\n",
      "18859/18859 [==============================] - 1s 27us/step - loss: 0.3210 - acc: 0.0000e+00 - val_loss: 0.3401 - val_acc: 0.0000e+00\n",
      "Epoch 58/100\n",
      "18859/18859 [==============================] - 0s 26us/step - loss: 0.3197 - acc: 0.0000e+00 - val_loss: 0.3359 - val_acc: 0.0000e+00\n",
      "Epoch 59/100\n",
      "18859/18859 [==============================] - 1s 27us/step - loss: 0.3232 - acc: 0.0000e+00 - val_loss: 0.3355 - val_acc: 0.0000e+00\n",
      "Epoch 60/100\n",
      "18859/18859 [==============================] - 0s 26us/step - loss: 0.3197 - acc: 0.0000e+00 - val_loss: 0.3358 - val_acc: 0.0000e+00\n",
      "Epoch 61/100\n",
      "18859/18859 [==============================] - 0s 26us/step - loss: 0.3214 - acc: 0.0000e+00 - val_loss: 0.3405 - val_acc: 0.0000e+00\n",
      "Epoch 62/100\n",
      "18859/18859 [==============================] - 1s 27us/step - loss: 0.3190 - acc: 0.0000e+00 - val_loss: 0.3454 - val_acc: 0.0000e+00\n",
      "Epoch 63/100\n",
      "18859/18859 [==============================] - 1s 27us/step - loss: 0.3206 - acc: 0.0000e+00 - val_loss: 0.3396 - val_acc: 0.0000e+00\n",
      "Epoch 64/100\n",
      "18859/18859 [==============================] - 1s 27us/step - loss: 0.3244 - acc: 0.0000e+00 - val_loss: 0.3356 - val_acc: 0.0000e+00\n",
      "Epoch 65/100\n",
      "18859/18859 [==============================] - 0s 26us/step - loss: 0.3218 - acc: 0.0000e+00 - val_loss: 0.3355 - val_acc: 0.0000e+00\n",
      "Epoch 66/100\n",
      "18859/18859 [==============================] - 1s 27us/step - loss: 0.3225 - acc: 0.0000e+00 - val_loss: 0.3379 - val_acc: 0.0000e+00\n",
      "Epoch 67/100\n",
      "18859/18859 [==============================] - 1s 28us/step - loss: 0.3176 - acc: 0.0000e+00 - val_loss: 0.3380 - val_acc: 0.0000e+00\n",
      "Epoch 68/100\n",
      "18859/18859 [==============================] - 1s 27us/step - loss: 0.3196 - acc: 0.0000e+00 - val_loss: 0.3385 - val_acc: 0.0000e+00\n",
      "Epoch 69/100\n",
      "18859/18859 [==============================] - 1s 27us/step - loss: 0.3217 - acc: 0.0000e+00 - val_loss: 0.3429 - val_acc: 0.0000e+00\n",
      "Epoch 70/100\n",
      "18859/18859 [==============================] - 1s 27us/step - loss: 0.3222 - acc: 0.0000e+00 - val_loss: 0.3378 - val_acc: 0.0000e+00\n",
      "Epoch 71/100\n",
      "18859/18859 [==============================] - 1s 27us/step - loss: 0.3224 - acc: 0.0000e+00 - val_loss: 0.3362 - val_acc: 0.0000e+00\n",
      "Epoch 72/100\n",
      "18859/18859 [==============================] - 1s 28us/step - loss: 0.3204 - acc: 0.0000e+00 - val_loss: 0.3356 - val_acc: 0.0000e+00\n",
      "Epoch 73/100\n",
      "18859/18859 [==============================] - 1s 27us/step - loss: 0.3197 - acc: 0.0000e+00 - val_loss: 0.3881 - val_acc: 0.0000e+00\n",
      "Epoch 74/100\n",
      "18859/18859 [==============================] - 1s 27us/step - loss: 0.3226 - acc: 0.0000e+00 - val_loss: 0.3356 - val_acc: 0.0000e+00\n",
      "Epoch 75/100\n",
      "18859/18859 [==============================] - 1s 27us/step - loss: 0.3191 - acc: 0.0000e+00 - val_loss: 0.3402 - val_acc: 0.0000e+00\n",
      "Epoch 76/100\n",
      "18859/18859 [==============================] - 0s 23us/step - loss: 0.3232 - acc: 0.0000e+00 - val_loss: 0.3357 - val_acc: 0.0000e+00\n",
      "Epoch 77/100\n",
      "18859/18859 [==============================] - 0s 25us/step - loss: 0.3232 - acc: 0.0000e+00 - val_loss: 0.3387 - val_acc: 0.0000e+00\n",
      "Epoch 78/100\n",
      "18859/18859 [==============================] - 1s 27us/step - loss: 0.3222 - acc: 0.0000e+00 - val_loss: 0.3423 - val_acc: 0.0000e+00\n",
      "Epoch 79/100\n",
      "18859/18859 [==============================] - 1s 27us/step - loss: 0.3236 - acc: 0.0000e+00 - val_loss: 0.3393 - val_acc: 0.0000e+00\n",
      "Epoch 80/100\n",
      "18859/18859 [==============================] - 1s 27us/step - loss: 0.3221 - acc: 0.0000e+00 - val_loss: 0.3404 - val_acc: 0.0000e+00\n",
      "Epoch 81/100\n",
      "18859/18859 [==============================] - 1s 27us/step - loss: 0.3202 - acc: 0.0000e+00 - val_loss: 0.3384 - val_acc: 0.0000e+00\n",
      "Epoch 82/100\n",
      "18859/18859 [==============================] - 1s 30us/step - loss: 0.3231 - acc: 0.0000e+00 - val_loss: 0.3370 - val_acc: 0.0000e+00\n",
      "Epoch 83/100\n",
      "18859/18859 [==============================] - 1s 29us/step - loss: 0.3205 - acc: 0.0000e+00 - val_loss: 0.3375 - val_acc: 0.0000e+00\n",
      "Epoch 84/100\n",
      "18859/18859 [==============================] - 1s 28us/step - loss: 0.3228 - acc: 0.0000e+00 - val_loss: 0.3400 - val_acc: 0.0000e+00\n",
      "Epoch 85/100\n",
      "18859/18859 [==============================] - 1s 28us/step - loss: 0.3193 - acc: 0.0000e+00 - val_loss: 0.3705 - val_acc: 0.0000e+00\n",
      "Epoch 86/100\n",
      "18859/18859 [==============================] - 1s 34us/step - loss: 0.3214 - acc: 0.0000e+00 - val_loss: 0.3389 - val_acc: 0.0000e+00\n",
      "Epoch 87/100\n",
      "18859/18859 [==============================] - 0s 26us/step - loss: 0.3204 - acc: 0.0000e+00 - val_loss: 0.3363 - val_acc: 0.0000e+00\n",
      "Epoch 88/100\n",
      "18859/18859 [==============================] - 1s 31us/step - loss: 0.3218 - acc: 0.0000e+00 - val_loss: 0.3369 - val_acc: 0.0000e+00\n",
      "Epoch 89/100\n",
      "18859/18859 [==============================] - 0s 25us/step - loss: 0.3230 - acc: 0.0000e+00 - val_loss: 0.3359 - val_acc: 0.0000e+00\n",
      "Epoch 90/100\n",
      "18859/18859 [==============================] - 1s 32us/step - loss: 0.3199 - acc: 0.0000e+00 - val_loss: 0.3392 - val_acc: 0.0000e+00\n",
      "Epoch 91/100\n",
      "18859/18859 [==============================] - 1s 31us/step - loss: 0.3202 - acc: 0.0000e+00 - val_loss: 0.3386 - val_acc: 0.0000e+00\n",
      "Epoch 92/100\n",
      "18859/18859 [==============================] - 1s 28us/step - loss: 0.3195 - acc: 0.0000e+00 - val_loss: 0.3360 - val_acc: 0.0000e+00\n",
      "Epoch 93/100\n",
      "18859/18859 [==============================] - 1s 29us/step - loss: 0.3207 - acc: 0.0000e+00 - val_loss: 0.3375 - val_acc: 0.0000e+00\n",
      "Epoch 94/100\n",
      "18859/18859 [==============================] - 0s 26us/step - loss: 0.3222 - acc: 0.0000e+00 - val_loss: 0.3482 - val_acc: 0.0000e+00\n",
      "Epoch 95/100\n",
      "18859/18859 [==============================] - 0s 25us/step - loss: 0.3221 - acc: 0.0000e+00 - val_loss: 0.3362 - val_acc: 0.0000e+00\n",
      "Epoch 96/100\n",
      "18859/18859 [==============================] - 1s 35us/step - loss: 0.3219 - acc: 0.0000e+00 - val_loss: 0.3363 - val_acc: 0.0000e+00\n",
      "Epoch 97/100\n",
      "18859/18859 [==============================] - 0s 25us/step - loss: 0.3196 - acc: 0.0000e+00 - val_loss: 0.3409 - val_acc: 0.0000e+00\n",
      "Epoch 98/100\n",
      "18859/18859 [==============================] - 1s 27us/step - loss: 0.3241 - acc: 0.0000e+00 - val_loss: 0.3365 - val_acc: 0.0000e+00\n",
      "Epoch 99/100\n",
      "18859/18859 [==============================] - 0s 25us/step - loss: 0.3221 - acc: 0.0000e+00 - val_loss: 0.3360 - val_acc: 0.0000e+00\n",
      "Epoch 100/100\n",
      "18859/18859 [==============================] - 1s 34us/step - loss: 0.3187 - acc: 0.0000e+00 - val_loss: 0.3514 - val_acc: 0.0000e+00\n",
      "Loss:     0.31865803562111616 \n",
      "Val_loss:  0.3513854404872018\n"
     ]
    }
   ],
   "source": [
    "np.random.seed(10)\n",
    "model = Sequential()\n",
    "\n",
    "model.add(Dense(128, kernel_initializer = 'uniform', activation = 'relu', input_dim = 3)) \n",
    "model.add(Dense(1, kernel_initializer = 'uniform'))\n",
    "model.compile(optimizer = 'sgd', loss = 'mean_squared_error',metrics=['accuracy'])        # metrics=['mse','mae']\n",
    "early_stopping_monitor = EarlyStopping(monitor='val_loss', patience=500)  # ignored\n",
    "history_mse = model.fit(X_train1, y_train1, epochs = 100, callbacks = [early_stopping_monitor], verbose = 1, validation_split = 0.2)\n",
    "\n",
    "print('Loss:    ', history_mse.history['loss'][-1], '\\nVal_loss: ', history_mse.history['val_loss'][-1])"
   ]
  },
  {
   "cell_type": "code",
   "execution_count": 103,
   "metadata": {},
   "outputs": [
    {
     "name": "stdout",
     "output_type": "stream",
     "text": [
      "7859/7859 [==============================] - 0s 15us/step\n",
      "Test Score: [0.3942123311237596, 0.0]\n",
      "23574/23574 [==============================] - 0s 13us/step\n",
      "Train Score: [0.32727199547047536, 0.0]\n"
     ]
    }
   ],
   "source": [
    "# EVALUATE MODEL IN THE TEST SET\n",
    "score_mse_test = model.evaluate(X_test1, y_test1)\n",
    "print('Test Score:', score_mse_test)\n",
    "\n",
    "# EVALUATE MODEL IN THE TRAIN SET\n",
    "score_mse_train = model.evaluate(X_train1, y_train1)\n",
    "print('Train Score:', score_mse_train)"
   ]
  },
  {
   "cell_type": "code",
   "execution_count": 104,
   "metadata": {},
   "outputs": [
    {
     "data": {
      "text/plain": [
       "<matplotlib.legend.Legend at 0x1608b69af28>"
      ]
     },
     "execution_count": 104,
     "metadata": {},
     "output_type": "execute_result"
    },
    {
     "data": {
      "image/png": "[encoded data removed]",
      "text/plain": [
       "<Figure size 1080x432 with 1 Axes>"
      ]
     },
     "metadata": {},
     "output_type": "display_data"
    }
   ],
   "source": [
    "plt.figure(figsize=(15, 6))\n",
    "plt.plot(history_mse.history['loss'], lw =3, ls = '--', label = 'Loss')\n",
    "plt.plot(history_mse.history['val_loss'], lw =2, ls = '-', label = 'Val Loss')\n",
    "plt.xlabel('Epochs', fontsize=15)\n",
    "plt.ylabel('Loss', fontsize=15)\n",
    "plt.title('MSE')\n",
    "plt.legend()"
   ]
  }
 ],
 "metadata": {
  "kernelspec": {
   "display_name": "Python 3",
   "language": "python",
   "name": "python3"
  },
  "language_info": {
   "codemirror_mode": {
    "name": "ipython",
    "version": 3
   },
   "file_extension": ".py",
   "mimetype": "text/x-python",
   "name": "python",
   "nbconvert_exporter": "python",
   "pygments_lexer": "ipython3",
   "version": "3.6.5"
  }
 },
 "nbformat": 4,
 "nbformat_minor": 2
}
